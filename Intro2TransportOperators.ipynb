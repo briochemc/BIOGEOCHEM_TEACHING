{
 "cells": [
  {
   "cell_type": "markdown",
   "metadata": {},
   "source": [
    "## Introduction to global ocean biogeochemical modelling\n",
    "<img src=\"boxmodel.png\" width =800>"
   ]
  },
  {
   "cell_type": "code",
   "execution_count": 2,
   "metadata": {},
   "outputs": [],
   "source": [
    "a = 6367e3;   # Earth radius           (m)\n",
    "A = 4*pi*a^2; # Earth surface area     (m²)\n",
    "d = 3700;     # ocean depth            (m)\n",
    "V = 0.75*A*d; # volume of ocean        (m³)\n",
    "h = 600;      # thickness of top layer (m)\n",
    "#\n",
    "dz = [h*ones(4,1);(d-h)*ones(4,1)]; # grid box thicknesses       (m)\n",
    "dV = (dz/d).*((V/4)*ones(8,1));     # grid box volumes           (m³)\n",
    "dAz = dV./dz                        # area of face ⟂ to z axis   (m²)\n",
    "dy = sqrt.(dAz);                    # north-south side length    (m)\n",
    "dx = sqrt.(dAz);                    # east-west side length      (m)\n",
    "dAx = dV./dy;                       # area of face ⟂ to x axis   (m²)\n",
    "dAy = dV./dx;                       # area of face ⟂ to y axis   (m²)\n",
    "#\n",
    "msk = [1, 1, 1, 0, 1, 1, 0, 0];     # wet-dry mask wet=1 dry = 0 \n",
    "iwet = findall(x->x==1,msk);        # index to wet gridboxes\n",
    "idry = findall(x->x==0,msk);        # index to dry gridboxes"
   ]
  },
  {
   "cell_type": "code",
   "execution_count": 13,
   "metadata": {},
   "outputs": [],
   "source": [
    "using SparseArrays\n",
    "TRdiv = spzeros(8,8);\n",
    "# \"Antarctic Circumpoloar Current\"\n",
    "acc = 100e6;  # (m³/s)\n",
    "TRdiv += sparse([1,1],[1,3],dV[1]\\[-acc,acc],8,8);\n",
    "TRdiv += sparse([3,3],[3,1],dV[3]\\[-acc,acc],8,8);\n",
    "# \"Meridional Overturning Circulation\"\n",
    "moc = 15e6    # (m³/s)\n",
    "TRdiv += sparse([1,1],[1,5],dV[1]\\[-moc,moc],8,8);\n",
    "TRdiv += sparse([2,2],[2,1],dV[2]\\[-moc,moc],8,8);\n",
    "TRdiv += sparse([5,5],[5,6],dV[5]\\[-moc,moc],8,8);\n",
    "TRdiv += sparse([6,6],[6,2],dV[6]\\[-moc,moc],8,8);\n",
    "# vertical mixing at \"high northern latitudes\"\n",
    "q = 10e6      # (m³/s)\n",
    "TRdiv += sparse([2,2],[2,6],dV[2]\\[-q,q],8,8);\n",
    "TRdiv += sparse([6,6],[6,2],dV[6]\\[-q,q],8,8);"
   ]
  },
  {
   "cell_type": "code",
   "execution_count": 14,
   "metadata": {},
   "outputs": [
    {
     "data": {
      "text/plain": [
       "8×8 Array{Float64,2}:\n",
       " -2.00662e-9    0.0           1.74489e-9  0.0  …   0.0          0.0  0.0\n",
       "  2.61733e-10  -4.36222e-10   0.0         0.0      1.74489e-10  0.0  0.0\n",
       "  1.74489e-9    0.0          -1.74489e-9  0.0      0.0          0.0  0.0\n",
       "  0.0           0.0           0.0         0.0      0.0          0.0  0.0\n",
       "  0.0           0.0           0.0         0.0      5.06581e-11  0.0  0.0\n",
       "  0.0           8.44301e-11   0.0         0.0  …  -8.44301e-11  0.0  0.0\n",
       "  0.0           0.0           0.0         0.0      0.0          0.0  0.0\n",
       "  0.0           0.0           0.0         0.0      0.0          0.0  0.0"
      ]
     },
     "execution_count": 14,
     "metadata": {},
     "output_type": "execute_result"
    }
   ],
   "source": [
    "Matrix(TRdiv)"
   ]
  },
  {
   "cell_type": "code",
   "execution_count": 15,
   "metadata": {},
   "outputs": [
    {
     "data": {
      "text/plain": [
       "5×5 Array{Float64,2}:\n",
       " -2.00662e-9    0.0           1.74489e-9   2.61733e-10   0.0        \n",
       "  2.61733e-10  -4.36222e-10   0.0          0.0           1.74489e-10\n",
       "  1.74489e-9    0.0          -1.74489e-9   0.0           0.0        \n",
       "  0.0           0.0           0.0         -5.06581e-11   5.06581e-11\n",
       "  0.0           8.44301e-11   0.0          0.0          -8.44301e-11"
      ]
     },
     "execution_count": 15,
     "metadata": {},
     "output_type": "execute_result"
    }
   ],
   "source": [
    "Matrix(TRdiv[iwet,iwet])"
   ]
  },
  {
   "cell_type": "code",
   "execution_count": null,
   "metadata": {},
   "outputs": [],
   "source": []
  }
 ],
 "metadata": {
  "kernelspec": {
   "display_name": "Julia 1.1.0",
   "language": "julia",
   "name": "julia-1.1"
  },
  "language_info": {
   "file_extension": ".jl",
   "mimetype": "application/julia",
   "name": "julia",
   "version": "1.1.0"
  }
 },
 "nbformat": 4,
 "nbformat_minor": 2
}
