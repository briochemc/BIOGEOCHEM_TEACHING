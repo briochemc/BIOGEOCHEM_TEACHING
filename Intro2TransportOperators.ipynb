{
 "cells": [
  {
   "cell_type": "markdown",
   "metadata": {},
   "source": [
    "## Introduction to global ocean biogeochemical modelling with transport operators\n",
    "To model marine biogeochemical processes on a global scale we need to be able to account for the movement of chemical constituents both horizontally and vertically. We do this with a <b><i>tracer transport operator</i></b>.  When this operator acts on a tracer field it produces the advective-diffusive divergence of the tracer.\n",
    "\n",
    "In order to represent the transport operator on a computer we have to discretize the tracer concentration field and the operator.  Once discretized the tracer field is represented as a vector and the operator is represented as a sparse matrix. (A sparse matrix behaves the same way as a regular matrix. The only difference is that in a sparse matrix the majority of the entries are zeros. These zeros are not stored explicitly to save computer memory making it possible to deal with fairly high resolution ocean models. \n",
    "\n",
    "Mathematically, the discretization converts an expression with partial derivatives into a matrix vector product:\n",
    "$$\\nabla \\cdot \\left[\\mathbf{u}-\\mathbf{K}\\cdot\\nabla \\right]C \\longrightarrow \\mathbf{T}\\mathbf{c}$$ where $\\mathbf{T}$ is the flux divergence transport matrix and $\\mathbf{c}$ is the tracer concentration vector. \n",
    "\n",
    "One can go a long way towards understanding what a tracer transport operator is by playing with a simple box model. We therefore introuce a simple box model before moving on to the <i>Ocean Circulation Inverse Model</i> (OCIM).\n"
   ]
  },
  {
   "cell_type": "markdown",
   "metadata": {},
   "source": [
    "The simple box model we consider is embeded in a $2\\times2\\times2$ \"shoebox\". It has 5 <i>wet</i> boxes and 3 <i>dry</i> boxes.\n",
    "<img src=\"boxmodel.png\" width =800>"
   ]
  },
  {
   "cell_type": "code",
   "execution_count": 2,
   "metadata": {},
   "outputs": [],
   "source": [
    "a = 6367e3;   # Earth radius           (m)\n",
    "A = 4*pi*a^2; # Earth surface area     (m²)\n",
    "d = 3700;     # ocean depth            (m)\n",
    "V = 0.75*A*d; # volume of ocean        (m³)\n",
    "h = 600;      # thickness of top layer (m)\n",
    "#\n",
    "dz = [h*ones(4,1);(d-h)*ones(4,1)]; # grid box thicknesses       (m)\n",
    "dV = (dz/d).*((V/4)*ones(8,1));     # grid box volumes           (m³)\n",
    "dAz = dV./dz                        # area of face ⟂ to z axis   (m²)\n",
    "dy = sqrt.(dAz);                    # north-south side length    (m)\n",
    "dx = sqrt.(dAz);                    # east-west side length      (m)\n",
    "dAx = dV./dy;                       # area of face ⟂ to x axis   (m²)\n",
    "dAy = dV./dx;                       # area of face ⟂ to y axis   (m²)\n",
    "#\n",
    "msk = [1, 1, 1, 0, 1, 1, 0, 0];     # wet-dry mask wet=1 dry = 0 \n",
    "iwet = findall(x->x==1,msk);        # index to wet gridboxes\n",
    "idry = findall(x->x==0,msk);        # index to dry gridboxes"
   ]
  },
  {
   "cell_type": "markdown",
   "metadata": {},
   "source": [
    "The circulation consists of \n",
    "<ul>\n",
    "    <li>a meridional overturning circulation flowing from box 1 to box 2 to box 6 to box 5 and back to box 1</li>\n",
    "    <li>a zonal current in a reentrant channel from box 1 to box 3 and back to box 1</li>\n",
    "    <li>vertical mixing representing deep convection between box 2 and box 6</li>\n",
    "</ul>\n",
    "    "
   ]
  },
  {
   "cell_type": "code",
   "execution_count": 13,
   "metadata": {},
   "outputs": [],
   "source": [
    "using SparseArrays\n",
    "TRdiv = spzeros(8,8);\n",
    "# \"Antarctic Circumpoloar Current\"\n",
    "acc = 100e6;  # (m³/s)\n",
    "TRdiv += sparse([1,1],[1,3],dV[1]\\[-acc,acc],8,8);\n",
    "TRdiv += sparse([3,3],[3,1],dV[3]\\[-acc,acc],8,8);\n",
    "# \"Meridional Overturning Circulation\"\n",
    "moc = 15e6    # (m³/s)\n",
    "TRdiv += sparse([1,1],[1,5],dV[1]\\[-moc,moc],8,8);\n",
    "TRdiv += sparse([2,2],[2,1],dV[2]\\[-moc,moc],8,8);\n",
    "TRdiv += sparse([5,5],[5,6],dV[5]\\[-moc,moc],8,8);\n",
    "TRdiv += sparse([6,6],[6,2],dV[6]\\[-moc,moc],8,8);\n",
    "# vertical mixing at \"high northern latitudes\"\n",
    "q = 10e6      # (m³/s)\n",
    "TRdiv += sparse([2,2],[2,6],dV[2]\\[-q,q],8,8);\n",
    "TRdiv += sparse([6,6],[6,2],dV[6]\\[-q,q],8,8);"
   ]
  },
  {
   "cell_type": "code",
   "execution_count": null,
   "metadata": {},
   "outputs": [],
   "source": []
  }
 ],
 "metadata": {
  "kernelspec": {
   "display_name": "Julia 1.1.0",
   "language": "julia",
   "name": "julia-1.1"
  },
  "language_info": {
   "file_extension": ".jl",
   "mimetype": "application/julia",
   "name": "julia",
   "version": "1.1.0"
  }
 },
 "nbformat": 4,
 "nbformat_minor": 2
}
